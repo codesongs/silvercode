{
  "nbformat": 4,
  "nbformat_minor": 0,
  "metadata": {
    "colab": {
      "provenance": [],
      "authorship_tag": "ABX9TyPAHc/HUnPGJ5EcDOjIO6QA"
    },
    "kernelspec": {
      "name": "python3",
      "display_name": "Python 3"
    },
    "language_info": {
      "name": "python"
    }
  },
  "cells": [
    {
      "cell_type": "code",
      "source": [
        "import pandas as pd\n",
        "from sklearn.linear_model import LinearRegression\n",
        "from sklearn.metrics import r2_score, mean_absolute_error, mean_squared_error\n",
        "\n",
        "data = pd.DataFrame(index=[0,1,2,3], columns=['광고비(x)','배달 주문량(y)'])\n",
        "data['광고비(x)'] = [580, 700, 810, 840]\n",
        "data['배달 주문량(y)'] = [374, 385, 375, 401]"
      ],
      "metadata": {
        "id": "3N3gUkEhUH4u"
      },
      "execution_count": 1,
      "outputs": []
    },
    {
      "cell_type": "code",
      "execution_count": null,
      "metadata": {
        "id": "KMFKVZaKA3iU"
      },
      "outputs": [],
      "source": [
        "def Calculate_theta_byRegression(data=data):\n",
        "  X = data.iloc[:,0].values.reshape(-1,1)\n",
        "  y = data.iloc[:,1].values\n",
        "  simple_ols = LinearRegression()\n",
        "  simple_ols.fit(X, y)\n",
        "  return simple_ols.coef_[0], simple_ols.intercept_\n",
        "\n",
        "def ValuePredictModel(x_list):\n",
        "    print(\"\\nV1. 배달 주문량 예측 모델\")\n",
        "    print(\"=\"*35,\"\\n\")\n",
        "    theta_1, theta_0 = Calculate_theta_byRegression()\n",
        "    y_hat_list = []\n",
        "    \n",
        "    for x in x_list:    \n",
        "        print(f\"투자된 광고비는 {x} 원 입니다.\")\n",
        "        y_hat = theta_0 + theta_1 * x\n",
        "        print(f\"예측된 배달주문량은 {y_hat} 건 입니다.\\n\")\n",
        "        y_hat_list.append(y_hat)\n",
        "\n",
        "    return y_hat_list\n",
        "  \n",
        "def consumer_input(): \n",
        "    print(\"[안내] 다음 질문에 맞춰 입력해주세요.\")\n",
        "    print(\"[예시] 4회 인 경우 4를 입력해주세요\")\n",
        "    count_x = input(\"몇 회 광고를 진행하셨나요? : \")\n",
        "    count_x_int = int(count_x)  \n",
        "\n",
        "    x_int_list = []\n",
        "\n",
        "    for i in range(count_x_int):\n",
        "        print(f\"[안내] {i+1} 번째 광고비를 입력해주세요.\")\n",
        "        print(\"[예시] 1000원 인 경우 1000 을 입력해주세요\")\n",
        "        x_str = input(\"광고비 입력 : \")\n",
        "        x_int = int(x_str)\n",
        "        \n",
        "        x_int_list.append(x_int)\n",
        "    \n",
        "    print(f\"감사합니다. 입력된 광고비는 다음과 같습니다. \\n{x_int_list}\")\n",
        "    return x_int_list\n",
        "\n",
        "def Calculate_r2_score():\n",
        "  X = data.iloc[:,0].values.reshape(-1,1)\n",
        "  y_real = data.iloc[:,1].values\n",
        "  simple_ols = LinearRegression()\n",
        "  simple_ols.fit(X, y_real)\n",
        "  y_pred = simple_ols.predict(X)\n",
        "  r2 = r2_score(y_real, y_pred)\n",
        "  print(f'해당 프로그램의 성능은 {round(r2, 3)} 입니다.')\n",
        "  return r2\n",
        "\n",
        "def main_program(): \n",
        "  x_list     = consumer_input()\n",
        "  y_hat_list = ValuePredictModel(x_list)\n",
        "  r2 = Calculate_r2_score()"
      ]
    },
    {
      "cell_type": "code",
      "source": [
        "main_program()"
      ],
      "metadata": {
        "colab": {
          "base_uri": "https://localhost:8080/"
        },
        "id": "-YluYW3ICwrI",
        "outputId": "c1f0d6b3-f4e1-48b1-f03f-d5d0ff80f36e"
      },
      "execution_count": null,
      "outputs": [
        {
          "output_type": "stream",
          "name": "stdout",
          "text": [
            "[안내] 다음 질문에 맞춰 입력해주세요.\n",
            "[예시] 4회 인 경우 4를 입력해주세요\n",
            "몇 회 광고를 진행하셨나요? : 3\n",
            "[안내] 1 번째 광고비를 입력해주세요.\n",
            "[예시] 1000원 인 경우 1000 을 입력해주세요\n",
            "광고비 입력 : 500\n",
            "[안내] 2 번째 광고비를 입력해주세요.\n",
            "[예시] 1000원 인 경우 1000 을 입력해주세요\n",
            "광고비 입력 : 1000\n",
            "[안내] 3 번째 광고비를 입력해주세요.\n",
            "[예시] 1000원 인 경우 1000 을 입력해주세요\n",
            "광고비 입력 : 1500\n",
            "감사합니다. 입력된 광고비는 다음과 같습니다. \n",
            "[500, 1000, 1500]\n",
            "\n",
            "V1. 배달 주문량 예측 모델\n",
            "=================================== \n",
            "\n",
            "투자된 광고비는 500 원 입니다.\n",
            "예측된 배달주문량은 369.1892537313433 건 입니다.\n",
            "\n",
            "투자된 광고비는 1000 원 입니다.\n",
            "예측된 배달주문량은 400.5026865671642 건 입니다.\n",
            "\n",
            "투자된 광고비는 1500 원 입니다.\n",
            "예측된 배달주문량은 431.816119402985 건 입니다.\n",
            "\n",
            "해당 프로그램의 성능은 0.349 입니다.\n"
          ]
        }
      ]
    }
  ]
}